{
 "cells": [
  {
   "cell_type": "code",
   "execution_count": 57,
   "id": "b7f17b05",
   "metadata": {},
   "outputs": [
    {
     "data": {
      "text/html": [
       "\n",
       "        <iframe\n",
       "            width=\"100%\"\n",
       "            height=\"650\"\n",
       "            src=\"http://127.0.0.1:8075/\"\n",
       "            frameborder=\"0\"\n",
       "            allowfullscreen\n",
       "            \n",
       "        ></iframe>\n",
       "        "
      ],
      "text/plain": [
       "<IPython.lib.display.IFrame at 0x12a68f891d0>"
      ]
     },
     "metadata": {},
     "output_type": "display_data"
    }
   ],
   "source": [
    "from dash import html, dcc\n",
    "from dash.dependencies import Output,Input\n",
    "from jupyter_dash import JupyterDash\n",
    "from dash.exceptions import PreventUpdate\n",
    "\n",
    "app = JupyterDash(__name__)\n",
    "\n",
    "app.layout = html.Div(\n",
    "    [\"Choose your favourite Ice Cream flavor: \",\n",
    "     dcc.Dropdown(\n",
    "            options=['Vanilla', 'Chocolate','Butterscotch','Strawberry','Pistachio'],\n",
    "             id=\"Icecream-input\"\n",
    "     ),\n",
    "     html.Div(id=\"Icecream-output\")    \n",
    "])\n",
    "\n",
    "@app.callback(\n",
    "    Output(\"Icecream-output\", \"children\"),\n",
    "    Input(\"Icecream-input\", \"value\")\n",
    ")\n",
    "def update_output_div(Icecream):\n",
    "    if not Icecream:\n",
    "        raise PreventUpdate\n",
    "    return f\"Great choice! Your favorite Ice cream is :{Icecream}\"\n",
    "    \n",
    "if __name__==\"__main__\":\n",
    "    app.run_server(mode=\"inline\",port=8075,debug=True)\n",
    "    "
   ]
  }
 ],
 "metadata": {
  "kernelspec": {
   "display_name": "Python 3 (ipykernel)",
   "language": "python",
   "name": "python3"
  },
  "language_info": {
   "codemirror_mode": {
    "name": "ipython",
    "version": 3
   },
   "file_extension": ".py",
   "mimetype": "text/x-python",
   "name": "python",
   "nbconvert_exporter": "python",
   "pygments_lexer": "ipython3",
   "version": "3.11.5"
  }
 },
 "nbformat": 4,
 "nbformat_minor": 5
}
